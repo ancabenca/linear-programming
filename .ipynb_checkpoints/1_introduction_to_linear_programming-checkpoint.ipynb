{
  "cells": [
    {
      "cell_type": "markdown",
      "metadata": {
        "id": "2ywEZ_RkknQC"
      },
      "source": [
        "# Introduction to Linear Programming\n",
        "\n",
        "> Chapter 1 of the [Linear Programming Course](https://github.com/mlabonne/Linear-Programming-Course)\n",
        "\n",
        "❤️ Created by [@maximelabonne](https://twitter.com/maximelabonne).\n",
        "\n",
        "Companion notebook to execute the code from the following article: https://mlabonne.github.io/blog/linearoptimization/\n",
        "\n",
        "<br/>\n",
        "\n",
        "| Unit | 🌾Food | 🪵Wood | 🪙Gold | 💪Power |\n",
        "| :--- | :---: | :---: | :---: | :---: |\n",
        "| 🗡️Swordsman | 60 | 20 | 0 | 70 |\n",
        "| 🏹Bowman | 80 | 10 | 40 | 95 |\n",
        "| 🐎Horseman | 140 | 0 |100 | 230 |\n",
        "\n",
        "<br/>\n",
        "\n",
        "**Goal**: optimizing the power of an army composed of swordsmen, bowmen, and horsemen with 1200 🌾food, 800 🪵wood, and 600 🪙gold."
      ]
    },
    {
      "cell_type": "code",
      "execution_count": 2,
      "metadata": {
        "id": "ZK0c0hhQklGb"
      },
      "outputs": [
        {
          "name": "stdout",
          "output_type": "stream",
          "text": [
            "Note: you may need to restart the kernel to use updated packages.\n"
          ]
        },
        {
          "name": "stderr",
          "output_type": "stream",
          "text": [
            "\n",
            "[notice] A new release of pip available: 22.3.1 -> 24.0\n",
            "[notice] To update, run: python.exe -m pip install --upgrade pip\n"
          ]
        }
      ],
      "source": [
        "pip install --upgrade --user -q ortools"
      ]
    },
    {
      "cell_type": "markdown",
      "metadata": {},
      "source": []
    },
    {
      "cell_type": "markdown",
      "metadata": {
        "id": "94uu3qEbFn_X"
      },
      "source": [
        "# Setup\n",
        "\n",
        "If the following cell fails, click on `Runtime > Restart and run all`."
      ]
    },
    {
      "cell_type": "code",
      "execution_count": 3,
      "metadata": {
        "id": "l4RYui9hxcJG"
      },
      "outputs": [],
      "source": [
        "# Import OR-Tools' wrapper for linear solvers\n",
        "from ortools.linear_solver import pywraplp\n",
        "\n",
        "# Create a linear solver using the GLOP backend\n",
        "solver = pywraplp.Solver('Maximize army power', pywraplp.Solver.GLOP_LINEAR_PROGRAMMING)"
      ]
    },
    {
      "cell_type": "markdown",
      "metadata": {
        "id": "PuX75dGGFpXP"
      },
      "source": [
        "# 1. Declare variables to optimize\n",
        "\n",
        "We have three variables: the numbers of swordsmen, bowmen, and horsemen."
      ]
    },
    {
      "cell_type": "code",
      "execution_count": 5,
      "metadata": {
        "id": "7Oqc6nBg0ea2"
      },
      "outputs": [
        {
          "data": {
            "text/plain": [
              "swordsmen"
            ]
          },
          "execution_count": 5,
          "metadata": {},
          "output_type": "execute_result"
        }
      ],
      "source": [
        "# Create the variables we want to optimize\n",
        "swordsmen = solver.IntVar(0, solver.infinity(), 'swordsmen')\n",
        "bowmen = solver.IntVar(0, solver.infinity(), 'bowmen')\n",
        "horsemen = solver.IntVar(0, solver.infinity(), 'horsemen')"
      ]
    },
    {
      "cell_type": "markdown",
      "metadata": {
        "id": "6J2Xrn-VFrOT"
      },
      "source": [
        "# 2. Declare constraints\n",
        "\n",
        "We have three constraints: the food, wood, and gold spent cannot exceed our current resources (1200 food, 800 wood, and 600 gold)."
      ]
    },
    {
      "cell_type": "code",
      "execution_count": 6,
      "metadata": {
        "colab": {
          "base_uri": "https://localhost:8080/"
        },
        "id": "jtD0ZPevY5CO",
        "outputId": "8d714ae5-1feb-45f1-d0b3-1dd1162648d0"
      },
      "outputs": [
        {
          "data": {
            "text/plain": [
              "<ortools.linear_solver.pywraplp.Constraint; proxy of <Swig Object of type 'operations_research::MPConstraint *' at 0x000001730CD20BD0> >"
            ]
          },
          "execution_count": 6,
          "metadata": {},
          "output_type": "execute_result"
        }
      ],
      "source": [
        "# Add constraints for each resource\n",
        "solver.Add(swordsmen*60 + bowmen*80 + horsemen*140 <= 1200) # Food\n",
        "solver.Add(swordsmen*20 + bowmen*10 <= 800)                 # Wood\n",
        "solver.Add(bowmen*40 + horsemen*100 <= 600)                 # Gold"
      ]
    },
    {
      "cell_type": "markdown",
      "metadata": {
        "id": "MpRvec7AFtYo"
      },
      "source": [
        "# 3. Declare objective\n",
        "\n",
        "The goal is to maximize the power of the army, which the sum of the power of each unit."
      ]
    },
    {
      "cell_type": "code",
      "execution_count": 7,
      "metadata": {
        "id": "HLkXypIKY8Bm"
      },
      "outputs": [],
      "source": [
        "# Maximize the objective function\n",
        "solver.Maximize(swordsmen*70 + bowmen*95 + horsemen*230)"
      ]
    },
    {
      "cell_type": "markdown",
      "metadata": {
        "id": "Y3B1e_f2Fz8D"
      },
      "source": [
        "# Optimize!"
      ]
    },
    {
      "cell_type": "code",
      "execution_count": 8,
      "metadata": {
        "colab": {
          "base_uri": "https://localhost:8080/"
        },
        "id": "ddA-aNJMY-V6",
        "outputId": "252fe084-42f0-41b3-c164-f3d3b8ebf909"
      },
      "outputs": [
        {
          "name": "stdout",
          "output_type": "stream",
          "text": [
            "================= Solution =================\n",
            "Solved in 35178.00 milliseconds in 2 iterations\n",
            "\n",
            "Optimal power = 1800.0 💪power\n",
            "Army:\n",
            " - 🗡️Swordsmen = 6.0000000000000036\n",
            " - 🏹Bowmen = 0.0\n",
            " - 🐎Horsemen = 5.999999999999999\n"
          ]
        }
      ],
      "source": [
        "# Solve problem\n",
        "status = solver.Solve()\n",
        "\n",
        "# If an optimal solution has been found, print results\n",
        "if status == pywraplp.Solver.OPTIMAL:\n",
        "  print('================= Solution =================')\n",
        "  print(f'Solved in {solver.wall_time():.2f} milliseconds in {solver.iterations()} iterations')\n",
        "  print()\n",
        "  print(f'Optimal power = {solver.Objective().Value()} 💪power')\n",
        "  print('Army:')\n",
        "  print(f' - 🗡️Swordsmen = {swordsmen.solution_value()}')\n",
        "  print(f' - 🏹Bowmen = {bowmen.solution_value()}')\n",
        "  print(f' - 🐎Horsemen = {horsemen.solution_value()}')\n",
        "else:\n",
        "  print('The solver could not find an optimal solution.')"
      ]
    },
    {
      "cell_type": "code",
      "execution_count": 11,
      "metadata": {},
      "outputs": [
        {
          "name": "stdout",
          "output_type": "stream",
          "text": [
            "================= Solution =================\n",
            "Solved in 480601.00 milliseconds in 0 iterations\n",
            "\n",
            "Optimal value = -67.33333333333333\n",
            "Army:\n",
            " - x1 = 0.0, 32.333333333333336, 0.0, 5.666666666666667, 1.3333333333333335\n"
          ]
        }
      ],
      "source": [
        "# Create the variables we want to optimize\n",
        "x1 = solver.IntVar(0, solver.infinity(), 'x1')\n",
        "x2 = solver.IntVar(0, solver.infinity(), 'x2')\n",
        "x3 = solver.IntVar(0, solver.infinity(), 'x3')\n",
        "x4 = solver.IntVar(0, solver.infinity(), 'x4')\n",
        "x5 = solver.IntVar(0, solver.infinity(), 'x5')\n",
        "\n",
        "# Add constraints for each resource\n",
        "solver.Add(x1 + 2*x4 - x5 == 10)\n",
        "solver.Add(x2 - x4 - 5*x5 ==20)\n",
        "solver.Add(x3 + 6*x4 - 12*x5 ==18)\n",
        "\n",
        "# Maximize the objective function\n",
        "solver.Minimize(-2*x4 + 3*x5 -60)\n",
        "\n",
        "\n",
        "# Solve problem\n",
        "status2 = solver.Solve()\n",
        "\n",
        "# If an optimal solution has been found, print results\n",
        "if status2 == pywraplp.Solver.OPTIMAL:\n",
        "  print('================= Solution =================')\n",
        "  print(f'Solved in {solver.wall_time():.2f} milliseconds in {solver.iterations()} iterations')\n",
        "  print()\n",
        "  print(f'Optimal value = {solver.Objective().Value()}')\n",
        "  print('Army:')\n",
        "  print(f' - x1 = {x1.solution_value()}, {x2.solution_value()}, {x3.solution_value()}, {x4.solution_value()}, {x5.solution_value()}')\n",
        "else:\n",
        "  print('The solver could not find an optimal solution.')"
      ]
    },
    {
      "cell_type": "code",
      "execution_count": 17,
      "metadata": {},
      "outputs": [
        {
          "ename": "SyntaxError",
          "evalue": "invalid syntax (3382125404.py, line 1)",
          "output_type": "error",
          "traceback": [
            "\u001b[1;36m  Cell \u001b[1;32mIn[17], line 1\u001b[1;36m\u001b[0m\n\u001b[1;33m    python -m pip install scipy\u001b[0m\n\u001b[1;37m              ^\u001b[0m\n\u001b[1;31mSyntaxError\u001b[0m\u001b[1;31m:\u001b[0m invalid syntax\n"
          ]
        }
      ],
      "source": [
        "python -m pip install scipy"
      ]
    },
    {
      "cell_type": "code",
      "execution_count": null,
      "metadata": {},
      "outputs": [],
      "source": [
        "\n",
        "\n",
        "# Objective function coefficients (since linprog minimizes, multiply by -1)\n",
        "c = [0, 0, 0, -2, 3]\n",
        "\n",
        "# Coefficients for the inequality constraints\n",
        "A = [\n",
        "    [1, 0, 0, 1, -2],  # x1 + 2*x4 - x5 >= 10\n",
        "    [0, 1, 0, -1, -5],  # x2 - x4 - 5*x5 >= 20\n",
        "    [0, 0, 1, 6, -12],  # x3 + 6*x4 - 12*x5 >= 18\n",
        "]\n",
        "\n",
        "# Right-hand side of the inequality constraints\n",
        "b = [10, 20, 18]\n",
        "\n",
        "# Bounds for each variable (assuming all variables are non-negative)\n",
        "bounds = [(0, None)] * 5  # (x1, x2, x3, x4, x5)\n",
        "\n",
        "# Solve the linear programming problem\n",
        "result = linprog(c, A_ub=A, b_ub=b, bounds=bounds, method='highs')\n",
        "\n",
        "# Print the results\n",
        "print(\"Optimal values:\")\n",
        "print(\"x1 =\", result.x[0])\n",
        "print(\"x2 =\", result.x[1])\n",
        "print(\"x3 =\", result.x[2])\n",
        "print(\"x4 =\", result.x[3])\n",
        "print(\"x5 =\", result.x[4])\n",
        "print(\"Optimal objective value:\", -result.fun)  # Multiply by -1 to get the actual objective value\n"
      ]
    }
  ],
  "metadata": {
    "colab": {
      "provenance": []
    },
    "kernelspec": {
      "display_name": "Python 3",
      "name": "python3"
    },
    "language_info": {
      "codemirror_mode": {
        "name": "ipython",
        "version": 3
      },
      "file_extension": ".py",
      "mimetype": "text/x-python",
      "name": "python",
      "nbconvert_exporter": "python",
      "pygments_lexer": "ipython3",
      "version": "3.10.9"
    }
  },
  "nbformat": 4,
  "nbformat_minor": 0
}
